{
 "cells": [
  {
   "cell_type": "code",
   "execution_count": 2,
   "metadata": {
    "execution": {
     "iopub.execute_input": "2022-10-20T20:24:00.544096Z",
     "iopub.status.busy": "2022-10-20T20:24:00.543570Z",
     "iopub.status.idle": "2022-10-20T20:24:01.938198Z",
     "shell.execute_reply": "2022-10-20T20:24:01.937523Z"
    }
   },
   "outputs": [
    {
     "name": "stdout",
     "output_type": "stream",
     "text": [
      "The autoreload extension is already loaded. To reload it, use:\n",
      "  %reload_ext autoreload\n"
     ]
    }
   ],
   "source": [
    "%matplotlib inline\n",
    "import numpy as np\n",
    "import matplotlib.pyplot as plt\n",
    "\n",
    "%load_ext autoreload\n",
    "%autoreload 2\n",
    "\n",
    "# Load test module for sanity check\n",
    "from test_utils import test"
   ]
  },
  {
   "cell_type": "markdown",
   "metadata": {},
   "source": [
    "Data Generation\n",
    "==="
   ]
  },
  {
   "cell_type": "code",
   "execution_count": 3,
   "metadata": {
    "execution": {
     "iopub.execute_input": "2022-10-20T20:24:01.941102Z",
     "iopub.status.busy": "2022-10-20T20:24:01.940901Z",
     "iopub.status.idle": "2022-10-20T20:24:01.958567Z",
     "shell.execute_reply": "2022-10-20T20:24:01.957826Z"
    }
   },
   "outputs": [],
   "source": [
    "num_samples, num_features = 10, 5"
   ]
  },
  {
   "cell_type": "code",
   "execution_count": 4,
   "metadata": {
    "execution": {
     "iopub.execute_input": "2022-10-20T20:24:01.961617Z",
     "iopub.status.busy": "2022-10-20T20:24:01.961445Z",
     "iopub.status.idle": "2022-10-20T20:24:01.979349Z",
     "shell.execute_reply": "2022-10-20T20:24:01.978622Z"
    }
   },
   "outputs": [],
   "source": [
    "np.random.seed(10)\n",
    "data = np.random.rand(num_samples, num_features)"
   ]
  },
  {
   "cell_type": "markdown",
   "metadata": {},
   "source": [
    "Solution\n",
    "==="
   ]
  },
  {
   "cell_type": "code",
   "execution_count": null,
   "metadata": {
    "execution": {
     "iopub.execute_input": "2022-10-20T20:24:01.982400Z",
     "iopub.status.busy": "2022-10-20T20:24:01.982215Z",
     "iopub.status.idle": "2022-10-20T20:24:01.999803Z",
     "shell.execute_reply": "2022-10-20T20:24:01.999321Z"
    }
   },
   "outputs": [],
   "source": [
    "print(data)"
   ]
  },
  {
   "cell_type": "code",
   "execution_count": 10,
   "metadata": {
    "execution": {
     "iopub.execute_input": "2022-10-20T20:24:02.021038Z",
     "iopub.status.busy": "2022-10-20T20:24:02.020824Z",
     "iopub.status.idle": "2022-10-20T20:24:02.039848Z",
     "shell.execute_reply": "2022-10-20T20:24:02.039139Z"
    }
   },
   "outputs": [
    {
     "name": "stdout",
     "output_type": "stream",
     "text": [
      "❌ The are some issues with your implementation of `standardize`:\n",
      "**********************************************************************\n",
      "File \"__main__\", line 10, in standardize\n",
      "Failed example:\n",
      "    standardize(np.array([[1, 2], [3, 4], [5, 6]]))\n",
      "Expected:\n",
      "    array([[-1.22474487, -1.22474487],\n",
      "           [ 0.        ,  0.        ],\n",
      "           [ 1.22474487,  1.22474487]])\n",
      "Got:\n",
      "    0\n",
      "**********************************************************************\n"
     ]
    }
   ],
   "source": [
    "def standardize(x):\n",
    "    \"\"\"Stadartize the input data x\n",
    "    \n",
    "    Args:\n",
    "        x: numpy array of shape=(num_samples, num_features)\n",
    "\n",
    "    Returns:\n",
    "        standartized data, shape=(num_samples, num_features)\n",
    "        \n",
    "    >>> standardize(np.array([[1, 2], [3, 4], [5, 6]]))\n",
    "    array([[-1.22474487, -1.22474487],\n",
    "           [ 0.        ,  0.        ],\n",
    "           [ 1.22474487,  1.22474487]])\n",
    "    \"\"\"\n",
    "    std_data = 0\n",
    "    return std_data\n",
    "\n",
    "\n",
    "test(standardize)"
   ]
  },
  {
   "cell_type": "code",
   "execution_count": 11,
   "metadata": {},
   "outputs": [
    {
     "ename": "ValueError",
     "evalue": "The truth value of an array with more than one element is ambiguous. Use a.any() or a.all()",
     "output_type": "error",
     "traceback": [
      "\u001b[0;31m---------------------------------------------------------------------------\u001b[0m",
      "\u001b[0;31mValueError\u001b[0m                                Traceback (most recent call last)",
      "\u001b[1;32m/Users/mikolajboronski/Documents/EPFL/MachineLearning/Labs/ML_course/labs/ex01/template/taskA.ipynb Cell 8\u001b[0m line \u001b[0;36m1\n\u001b[0;32m----> <a href='vscode-notebook-cell:/Users/mikolajboronski/Documents/EPFL/MachineLearning/Labs/ML_course/labs/ex01/template/taskA.ipynb#X11sZmlsZQ%3D%3D?line=0'>1</a>\u001b[0m \u001b[39massert\u001b[39;00m standardize(np\u001b[39m.\u001b[39marray([[\u001b[39m1\u001b[39m, \u001b[39m2\u001b[39m], [\u001b[39m3\u001b[39m, \u001b[39m4\u001b[39m], [\u001b[39m5\u001b[39m, \u001b[39m6\u001b[39m]])) \u001b[39m==\u001b[39m \\\n\u001b[1;32m      <a href='vscode-notebook-cell:/Users/mikolajboronski/Documents/EPFL/MachineLearning/Labs/ML_course/labs/ex01/template/taskA.ipynb#X11sZmlsZQ%3D%3D?line=1'>2</a>\u001b[0m      np\u001b[39m.\u001b[39marray([ [\u001b[39m-\u001b[39m\u001b[39m1.22474487\u001b[39m, \u001b[39m-\u001b[39m\u001b[39m1.22474487\u001b[39m], \\\n\u001b[1;32m      <a href='vscode-notebook-cell:/Users/mikolajboronski/Documents/EPFL/MachineLearning/Labs/ML_course/labs/ex01/template/taskA.ipynb#X11sZmlsZQ%3D%3D?line=2'>3</a>\u001b[0m                 [ \u001b[39m0.\u001b[39m        ,  \u001b[39m0.\u001b[39m        ], \\\n\u001b[1;32m      <a href='vscode-notebook-cell:/Users/mikolajboronski/Documents/EPFL/MachineLearning/Labs/ML_course/labs/ex01/template/taskA.ipynb#X11sZmlsZQ%3D%3D?line=3'>4</a>\u001b[0m                 [ \u001b[39m1.22474487\u001b[39m,  \u001b[39m1.22474487\u001b[39m]]), \\\n\u001b[1;32m      <a href='vscode-notebook-cell:/Users/mikolajboronski/Documents/EPFL/MachineLearning/Labs/ML_course/labs/ex01/template/taskA.ipynb#X11sZmlsZQ%3D%3D?line=4'>5</a>\u001b[0m     \u001b[39m\"\u001b[39m\u001b[39mFailed standardize test\u001b[39m\u001b[39m\"\u001b[39m\n",
      "\u001b[0;31mValueError\u001b[0m: The truth value of an array with more than one element is ambiguous. Use a.any() or a.all()"
     ]
    }
   ],
   "source": [
    "assert standardize(np.array([[1, 2], [3, 4], [5, 6]])) == \\"
   ]
  },
  {
   "cell_type": "code",
   "execution_count": null,
   "metadata": {
    "execution": {
     "iopub.execute_input": "2022-10-20T20:24:02.043025Z",
     "iopub.status.busy": "2022-10-20T20:24:02.042804Z",
     "iopub.status.idle": "2022-10-20T20:24:02.062209Z",
     "shell.execute_reply": "2022-10-20T20:24:02.061506Z"
    }
   },
   "outputs": [],
   "source": [
    "std_data = standardize(data)\n",
    "print(std_data, \"\\n\\n\", np.mean(std_data, axis=0), \"\\n\\n\", np.std(std_data, axis=0))"
   ]
  }
 ],
 "metadata": {
  "kernelspec": {
   "display_name": "Python 3",
   "language": "python",
   "name": "python3"
  },
  "language_info": {
   "codemirror_mode": {
    "name": "ipython",
    "version": 3
   },
   "file_extension": ".py",
   "mimetype": "text/x-python",
   "name": "python",
   "nbconvert_exporter": "python",
   "pygments_lexer": "ipython3",
   "version": "3.11.4"
  }
 },
 "nbformat": 4,
 "nbformat_minor": 1
}
